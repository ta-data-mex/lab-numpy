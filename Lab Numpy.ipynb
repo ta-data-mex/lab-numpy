{
 "cells": [
  {
   "cell_type": "code",
   "execution_count": 1,
   "metadata": {},
   "outputs": [],
   "source": [
    "import numpy as np"
   ]
  },
  {
   "cell_type": "code",
   "execution_count": 2,
   "metadata": {},
   "outputs": [
    {
     "name": "stdout",
     "output_type": "stream",
     "text": [
      "1.16.4\n"
     ]
    }
   ],
   "source": [
    "print(np.version.version)"
   ]
  },
  {
   "cell_type": "code",
   "execution_count": 3,
   "metadata": {},
   "outputs": [],
   "source": [
    "a=np.random.randint(low=0,high=10,size=(2,3,5))"
   ]
  },
  {
   "cell_type": "code",
   "execution_count": 4,
   "metadata": {},
   "outputs": [
    {
     "name": "stdout",
     "output_type": "stream",
     "text": [
      "[[[5 3 7 7 7]\n",
      "  [1 8 8 2 6]\n",
      "  [9 1 3 6 9]]\n",
      "\n",
      " [[6 1 6 9 7]\n",
      "  [0 0 4 3 9]\n",
      "  [8 4 7 5 1]]]\n"
     ]
    }
   ],
   "source": [
    "print(a)"
   ]
  },
  {
   "cell_type": "code",
   "execution_count": 5,
   "metadata": {},
   "outputs": [],
   "source": [
    "b =  np.ones((5,2,3))"
   ]
  },
  {
   "cell_type": "code",
   "execution_count": 6,
   "metadata": {},
   "outputs": [
    {
     "name": "stdout",
     "output_type": "stream",
     "text": [
      "[[[1. 1. 1.]\n",
      "  [1. 1. 1.]]\n",
      "\n",
      " [[1. 1. 1.]\n",
      "  [1. 1. 1.]]\n",
      "\n",
      " [[1. 1. 1.]\n",
      "  [1. 1. 1.]]\n",
      "\n",
      " [[1. 1. 1.]\n",
      "  [1. 1. 1.]]\n",
      "\n",
      " [[1. 1. 1.]\n",
      "  [1. 1. 1.]]]\n"
     ]
    }
   ],
   "source": [
    "print(b)"
   ]
  },
  {
   "cell_type": "code",
   "execution_count": 7,
   "metadata": {},
   "outputs": [
    {
     "name": "stdout",
     "output_type": "stream",
     "text": [
      "30\n",
      "30\n",
      "True\n"
     ]
    }
   ],
   "source": [
    "print(a.size)\n",
    "print(b.size)\n",
    "\n",
    "if a.size == b.size:\n",
    "    print(True)\n",
    "else:\n",
    "    print(False)"
   ]
  },
  {
   "cell_type": "code",
   "execution_count": 8,
   "metadata": {},
   "outputs": [
    {
     "name": "stdout",
     "output_type": "stream",
     "text": [
      "(2, 3, 5)\n",
      "(5, 2, 3)\n",
      "Not the same size\n"
     ]
    }
   ],
   "source": [
    "print(a.shape)\n",
    "print(b.shape)\n",
    "\n",
    "if a.shape == b.shape:\n",
    "    print(a+b)\n",
    "else:\n",
    "    print(\"Not the same size\")"
   ]
  },
  {
   "cell_type": "code",
   "execution_count": 23,
   "metadata": {},
   "outputs": [
    {
     "name": "stdout",
     "output_type": "stream",
     "text": [
      "[[[1. 1. 1. 1. 1.]\n",
      "  [1. 1. 1. 1. 1.]\n",
      "  [1. 1. 1. 1. 1.]]\n",
      "\n",
      " [[1. 1. 1. 1. 1.]\n",
      "  [1. 1. 1. 1. 1.]\n",
      "  [1. 1. 1. 1. 1.]]]\n"
     ]
    }
   ],
   "source": [
    "c= np.reshape(b,(2,3,5))\n",
    "print(c)"
   ]
  },
  {
   "cell_type": "code",
   "execution_count": 24,
   "metadata": {},
   "outputs": [
    {
     "name": "stdout",
     "output_type": "stream",
     "text": [
      "[[[ 6.  4.  8.  8.  8.]\n",
      "  [ 2.  9.  9.  3.  7.]\n",
      "  [10.  2.  4.  7. 10.]]\n",
      "\n",
      " [[ 7.  2.  7. 10.  8.]\n",
      "  [ 1.  1.  5.  4. 10.]\n",
      "  [ 9.  5.  8.  6.  2.]]]\n"
     ]
    }
   ],
   "source": [
    "d = np.add(a,c)\n",
    "print(d)"
   ]
  },
  {
   "cell_type": "code",
   "execution_count": 25,
   "metadata": {},
   "outputs": [
    {
     "name": "stdout",
     "output_type": "stream",
     "text": [
      "[[[5. 3. 7. 7. 7.]\n",
      "  [1. 8. 8. 2. 6.]\n",
      "  [9. 1. 3. 6. 9.]]\n",
      "\n",
      " [[6. 1. 6. 9. 7.]\n",
      "  [0. 0. 4. 3. 9.]\n",
      "  [8. 4. 7. 5. 1.]]]\n"
     ]
    }
   ],
   "source": [
    "e=np.multiply(a,c)\n",
    "print(e)"
   ]
  },
  {
   "cell_type": "code",
   "execution_count": 26,
   "metadata": {},
   "outputs": [
    {
     "name": "stdout",
     "output_type": "stream",
     "text": [
      "10.0\n",
      "1.0\n",
      "6.066666666666666\n"
     ]
    }
   ],
   "source": [
    "d_max=np.max(d)\n",
    "print(d_max)\n",
    "\n",
    "d_min=np.min(d)\n",
    "print(d_min)\n",
    "\n",
    "d_mean=np.mean(d)\n",
    "print(d_mean)"
   ]
  },
  {
   "cell_type": "code",
   "execution_count": 28,
   "metadata": {},
   "outputs": [
    {
     "name": "stdout",
     "output_type": "stream",
     "text": [
      "[[[0. 0. 0. 0. 0.]\n",
      "  [0. 0. 0. 0. 0.]\n",
      "  [0. 0. 0. 0. 0.]]\n",
      "\n",
      " [[0. 0. 0. 0. 0.]\n",
      "  [0. 0. 0. 0. 0.]\n",
      "  [0. 0. 0. 0. 0.]]]\n"
     ]
    }
   ],
   "source": [
    "f=np.zeros((2,3,5))\n",
    "print(f)"
   ]
  },
  {
   "cell_type": "code",
   "execution_count": 29,
   "metadata": {},
   "outputs": [
    {
     "name": "stdout",
     "output_type": "stream",
     "text": [
      "[[[ 25.  25.  75.  75.  75.]\n",
      "  [ 25.  75.  75.  25.  75.]\n",
      "  [100.  25.  25.  75. 100.]]\n",
      "\n",
      " [[ 75.  25.  75. 100.  75.]\n",
      "  [  0.   0.  25.  25. 100.]\n",
      "  [ 75.  25.  75.  25.  25.]]]\n"
     ]
    }
   ],
   "source": [
    "for j in range(len(d)):\n",
    "    for k in range(len(d[0])):\n",
    "        for l in range(len(d[0,0])):\n",
    "            if d[j,k,l] > d_min and d[j,k,l] < d_mean:\n",
    "                f[j,k,l] = 25\n",
    "            elif  d[j,k,l]>d_mean and d[j,k,l] < d_max:\n",
    "                f[j,k,l]=75\n",
    "            elif d[j,k,l] == d_mean:\n",
    "                f[j,k,l]=50\n",
    "            elif d[j,k,l] == d_min:\n",
    "                f[j,k,l]=0\n",
    "            else:\n",
    "                f[j,k,l]=100\n",
    "print(f)"
   ]
  },
  {
   "cell_type": "code",
   "execution_count": 41,
   "metadata": {},
   "outputs": [
    {
     "name": "stdout",
     "output_type": "stream",
     "text": [
      "[[['l' 'l' 'b' 'b' 'b']\n",
      "  ['l' 'b' 'b' 'l' 'b']\n",
      "  ['e' 'l' 'l' 'b' 'e']]\n",
      "\n",
      " [['b' 'l' 'b' 'e' 'b']\n",
      "  ['d' 'd' 'l' 'l' 'e']\n",
      "  ['b' 'l' 'b' 'l' 'l']]]\n"
     ]
    }
   ],
   "source": [
    "ff=np.empty((2,3,5), dtype=\"object\")\n",
    "            \n",
    "for j in range(len(d)):\n",
    "    for k in range(len(d[0])):\n",
    "        for l in range(len(d[0,0])):\n",
    "            if d[j,k,l] > d_min and d[j,k,l] < d_mean:\n",
    "                ff[j,k,l] = \"l\"\n",
    "            elif  d[j,k,l]>d_mean and d[j,k,l] < d_max:\n",
    "                ff[j,k,l]=\"b\"\n",
    "            elif d[j,k,l] == d_mean:\n",
    "                ff[j,k,l]=\"c\"\n",
    "            elif d[j,k,l] == d_min:\n",
    "                ff[j,k,l]=\"d\"\n",
    "            else:\n",
    "                ff[j,k,l]=\"e\"\n",
    "\n",
    "print(ff)"
   ]
  },
  {
   "cell_type": "code",
   "execution_count": null,
   "metadata": {},
   "outputs": [],
   "source": []
  },
  {
   "cell_type": "code",
   "execution_count": null,
   "metadata": {},
   "outputs": [],
   "source": []
  }
 ],
 "metadata": {
  "kernelspec": {
   "display_name": "Python 3",
   "language": "python",
   "name": "python3"
  },
  "language_info": {
   "codemirror_mode": {
    "name": "ipython",
    "version": 3
   },
   "file_extension": ".py",
   "mimetype": "text/x-python",
   "name": "python",
   "nbconvert_exporter": "python",
   "pygments_lexer": "ipython3",
   "version": "3.7.3"
  }
 },
 "nbformat": 4,
 "nbformat_minor": 2
}
