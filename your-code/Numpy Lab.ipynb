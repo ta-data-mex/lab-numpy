{
 "cells": [
  {
   "cell_type": "code",
   "execution_count": 1,
   "id": "3448cb69",
   "metadata": {},
   "outputs": [],
   "source": [
    "import numpy as np"
   ]
  },
  {
   "cell_type": "code",
   "execution_count": 3,
   "id": "2c7b0d8f",
   "metadata": {},
   "outputs": [
    {
     "data": {
      "text/plain": [
       "'1.20.3'"
      ]
     },
     "execution_count": 3,
     "metadata": {},
     "output_type": "execute_result"
    }
   ],
   "source": [
    "np.version.version"
   ]
  },
  {
   "cell_type": "code",
   "execution_count": 13,
   "id": "cd982dcb",
   "metadata": {},
   "outputs": [],
   "source": [
    "a = np.random.random((2,3,5))"
   ]
  },
  {
   "cell_type": "code",
   "execution_count": 14,
   "id": "61c8a620",
   "metadata": {},
   "outputs": [
    {
     "name": "stdout",
     "output_type": "stream",
     "text": [
      "[[[0.15290319 0.86252378 0.14369111 0.62593143 0.46557977]\n",
      "  [0.42611641 0.67286878 0.21129835 0.98118515 0.18187114]\n",
      "  [0.24340859 0.25069733 0.30629432 0.846499   0.17109146]]\n",
      "\n",
      " [[0.73721093 0.21238022 0.9844142  0.00830514 0.29774199]\n",
      "  [0.09117735 0.9664971  0.43487027 0.34456459 0.79620036]\n",
      "  [0.25401979 0.1536859  0.27516926 0.4568113  0.46160592]]]\n"
     ]
    }
   ],
   "source": [
    "print(a)"
   ]
  },
  {
   "cell_type": "code",
   "execution_count": 15,
   "id": "05796e4d",
   "metadata": {},
   "outputs": [],
   "source": [
    "b = np.random.random((5,2,3))"
   ]
  },
  {
   "cell_type": "code",
   "execution_count": 16,
   "id": "e26dc8c7",
   "metadata": {},
   "outputs": [
    {
     "name": "stdout",
     "output_type": "stream",
     "text": [
      "[[[0.7207888  0.34042474 0.2699991 ]\n",
      "  [0.84919182 0.53897072 0.78183613]]\n",
      "\n",
      " [[0.88728907 0.47131866 0.21045486]\n",
      "  [0.33186873 0.56843855 0.70143519]]\n",
      "\n",
      " [[0.28801285 0.47707646 0.05168354]\n",
      "  [0.84574515 0.38123144 0.40306073]]\n",
      "\n",
      " [[0.46687937 0.06430843 0.71190168]\n",
      "  [0.70888985 0.59771584 0.28024684]]\n",
      "\n",
      " [[0.73596541 0.13497674 0.77295442]\n",
      "  [0.50811382 0.35956494 0.23153064]]]\n"
     ]
    }
   ],
   "source": [
    "print(b)"
   ]
  },
  {
   "cell_type": "code",
   "execution_count": 20,
   "id": "dab09cdc",
   "metadata": {},
   "outputs": [
    {
     "data": {
      "text/plain": [
       "30"
      ]
     },
     "execution_count": 20,
     "metadata": {},
     "output_type": "execute_result"
    }
   ],
   "source": [
    "b.size"
   ]
  },
  {
   "cell_type": "code",
   "execution_count": 21,
   "id": "61d75df5",
   "metadata": {},
   "outputs": [
    {
     "data": {
      "text/plain": [
       "30"
      ]
     },
     "execution_count": 21,
     "metadata": {},
     "output_type": "execute_result"
    }
   ],
   "source": [
    "a.size"
   ]
  },
  {
   "cell_type": "code",
   "execution_count": 23,
   "id": "3160887e",
   "metadata": {},
   "outputs": [
    {
     "data": {
      "text/plain": [
       "True"
      ]
     },
     "execution_count": 23,
     "metadata": {},
     "output_type": "execute_result"
    }
   ],
   "source": [
    "b.size == a.size"
   ]
  },
  {
   "cell_type": "code",
   "execution_count": 24,
   "id": "9c7e902d",
   "metadata": {},
   "outputs": [
    {
     "ename": "ValueError",
     "evalue": "operands could not be broadcast together with shapes (5,2,3) (2,3,5) ",
     "output_type": "error",
     "traceback": [
      "\u001b[0;31m-------------------------------------------------------------------------\u001b[0m",
      "\u001b[0;31mValueError\u001b[0m                              Traceback (most recent call last)",
      "\u001b[0;32m<ipython-input-24-7bb15b27712a>\u001b[0m in \u001b[0;36m<module>\u001b[0;34m\u001b[0m\n\u001b[0;32m----> 1\u001b[0;31m \u001b[0mprint\u001b[0m\u001b[0;34m(\u001b[0m\u001b[0mb\u001b[0m\u001b[0;34m+\u001b[0m\u001b[0ma\u001b[0m\u001b[0;34m)\u001b[0m\u001b[0;34m\u001b[0m\u001b[0;34m\u001b[0m\u001b[0m\n\u001b[0m",
      "\u001b[0;31mValueError\u001b[0m: operands could not be broadcast together with shapes (5,2,3) (2,3,5) "
     ]
    }
   ],
   "source": [
    "#8\n",
    "print(b+a)"
   ]
  },
  {
   "cell_type": "code",
   "execution_count": 29,
   "id": "7d857cad",
   "metadata": {},
   "outputs": [],
   "source": [
    "c = np.reshape(b,(2,3,5))"
   ]
  },
  {
   "cell_type": "code",
   "execution_count": 30,
   "id": "da5af180",
   "metadata": {},
   "outputs": [
    {
     "data": {
      "text/plain": [
       "(2, 3, 5)"
      ]
     },
     "execution_count": 30,
     "metadata": {},
     "output_type": "execute_result"
    }
   ],
   "source": [
    "a.shape"
   ]
  },
  {
   "cell_type": "code",
   "execution_count": 31,
   "id": "aec8b3db",
   "metadata": {},
   "outputs": [
    {
     "data": {
      "text/plain": [
       "(5, 2, 3)"
      ]
     },
     "execution_count": 31,
     "metadata": {},
     "output_type": "execute_result"
    }
   ],
   "source": [
    "b.shape"
   ]
  },
  {
   "cell_type": "code",
   "execution_count": 32,
   "id": "9b4f6330",
   "metadata": {},
   "outputs": [
    {
     "data": {
      "text/plain": [
       "(2, 3, 5)"
      ]
     },
     "execution_count": 32,
     "metadata": {},
     "output_type": "execute_result"
    }
   ],
   "source": [
    "c.shape"
   ]
  },
  {
   "cell_type": "code",
   "execution_count": 34,
   "id": "211d3f33",
   "metadata": {},
   "outputs": [],
   "source": [
    "d = a+c "
   ]
  },
  {
   "cell_type": "code",
   "execution_count": 37,
   "id": "1b9ba549",
   "metadata": {},
   "outputs": [
    {
     "name": "stdout",
     "output_type": "stream",
     "text": [
      "[[[0.15290319 0.86252378 0.14369111 0.62593143 0.46557977]\n",
      "  [0.42611641 0.67286878 0.21129835 0.98118515 0.18187114]\n",
      "  [0.24340859 0.25069733 0.30629432 0.846499   0.17109146]]\n",
      "\n",
      " [[0.73721093 0.21238022 0.9844142  0.00830514 0.29774199]\n",
      "  [0.09117735 0.9664971  0.43487027 0.34456459 0.79620036]\n",
      "  [0.25401979 0.1536859  0.27516926 0.4568113  0.46160592]]]\n"
     ]
    }
   ],
   "source": [
    "print(a)"
   ]
  },
  {
   "cell_type": "code",
   "execution_count": 36,
   "id": "d6b08cab",
   "metadata": {},
   "outputs": [
    {
     "name": "stdout",
     "output_type": "stream",
     "text": [
      "[[[0.87369199 1.20294852 0.4136902  1.47512324 1.00455049]\n",
      "  [1.20795253 1.56015785 0.68261701 1.19164001 0.51373987]\n",
      "  [0.81184714 0.95213252 0.59430717 1.32357546 0.222775  ]]\n",
      "\n",
      " [[1.58295608 0.59361166 1.38747493 0.47518451 0.36205042]\n",
      "  [0.80307903 1.67538695 1.03258611 0.62481143 1.53216577]\n",
      "  [0.38899653 0.92664032 0.78328308 0.81637624 0.69313656]]]\n"
     ]
    }
   ],
   "source": [
    "print(d)"
   ]
  },
  {
   "cell_type": "code",
   "execution_count": 38,
   "id": "dd611f97",
   "metadata": {},
   "outputs": [],
   "source": [
    "e = a*c"
   ]
  },
  {
   "cell_type": "code",
   "execution_count": 39,
   "id": "5f6df22d",
   "metadata": {},
   "outputs": [
    {
     "name": "stdout",
     "output_type": "stream",
     "text": [
      "[[[0.11021091 0.29362443 0.03879647 0.53153585 0.25093386]\n",
      "  [0.3331532  0.59702911 0.09958886 0.20649518 0.06035735]\n",
      "  [0.13836283 0.17584793 0.0882167  0.40384474 0.00884261]]\n",
      "\n",
      " [[0.62349257 0.08096602 0.39677871 0.0038775  0.01914732]\n",
      "  [0.06490931 0.68513998 0.25992885 0.09656314 0.58597592]\n",
      "  [0.03428676 0.1187922  0.1398173  0.16425333 0.10687591]]]\n"
     ]
    }
   ],
   "source": [
    "print(e)\n"
   ]
  },
  {
   "cell_type": "code",
   "execution_count": 40,
   "id": "2f87f356",
   "metadata": {},
   "outputs": [
    {
     "name": "stdout",
     "output_type": "stream",
     "text": [
      "[[[0.15290319 0.86252378 0.14369111 0.62593143 0.46557977]\n",
      "  [0.42611641 0.67286878 0.21129835 0.98118515 0.18187114]\n",
      "  [0.24340859 0.25069733 0.30629432 0.846499   0.17109146]]\n",
      "\n",
      " [[0.73721093 0.21238022 0.9844142  0.00830514 0.29774199]\n",
      "  [0.09117735 0.9664971  0.43487027 0.34456459 0.79620036]\n",
      "  [0.25401979 0.1536859  0.27516926 0.4568113  0.46160592]]]\n"
     ]
    }
   ],
   "source": [
    "print(a)"
   ]
  },
  {
   "cell_type": "code",
   "execution_count": 42,
   "id": "043f4a92",
   "metadata": {},
   "outputs": [
    {
     "name": "stdout",
     "output_type": "stream",
     "text": [
      "1.6753869495848108\n"
     ]
    }
   ],
   "source": [
    "d_max = d.max()\n",
    "print(d_max)"
   ]
  },
  {
   "cell_type": "code",
   "execution_count": 43,
   "id": "e3d458e9",
   "metadata": {},
   "outputs": [
    {
     "name": "stdout",
     "output_type": "stream",
     "text": [
      "0.2227749997827645\n"
     ]
    }
   ],
   "source": [
    "d_min = d.min()\n",
    "print(d_min)"
   ]
  },
  {
   "cell_type": "code",
   "execution_count": 44,
   "id": "b583b535",
   "metadata": {},
   "outputs": [
    {
     "name": "stdout",
     "output_type": "stream",
     "text": [
      "0.9236162871942855\n"
     ]
    }
   ],
   "source": [
    "d_mean = d.mean()\n",
    "print(d_mean)"
   ]
  },
  {
   "cell_type": "code",
   "execution_count": 51,
   "id": "c7cf9c3a",
   "metadata": {},
   "outputs": [],
   "source": [
    "f = np.empty((2,3,5))"
   ]
  },
  {
   "cell_type": "code",
   "execution_count": 52,
   "id": "0ebd91cb",
   "metadata": {},
   "outputs": [
    {
     "name": "stdout",
     "output_type": "stream",
     "text": [
      "[[[0.15290319 0.86252378 0.14369111 0.62593143 0.46557977]\n",
      "  [0.42611641 0.67286878 0.21129835 0.98118515 0.18187114]\n",
      "  [0.24340859 0.25069733 0.30629432 0.846499   0.17109146]]\n",
      "\n",
      " [[0.73721093 0.21238022 0.9844142  0.00830514 0.29774199]\n",
      "  [0.09117735 0.9664971  0.43487027 0.34456459 0.79620036]\n",
      "  [0.25401979 0.1536859  0.27516926 0.4568113  0.46160592]]]\n"
     ]
    }
   ],
   "source": [
    "print(f)"
   ]
  },
  {
   "cell_type": "code",
   "execution_count": 59,
   "id": "fb600639",
   "metadata": {},
   "outputs": [
    {
     "name": "stdout",
     "output_type": "stream",
     "text": [
      "[[[ 25  75  25  75  75]\n",
      "  [ 75  75  25  75  25]\n",
      "  [ 25  75  25  75   0]]\n",
      "\n",
      " [[ 75  25  75  25  25]\n",
      "  [ 25 100  75  25  75]\n",
      "  [ 25  75  25  25  25]]]\n"
     ]
    }
   ],
   "source": [
    "temp = []\n",
    "\n",
    "for i in d:\n",
    "    #print(i)\n",
    "    for j in i:\n",
    "        #print(j)\n",
    "        for x in j:\n",
    "            ##print(x)\n",
    "            if x > d_min and x < d_mean:\n",
    "                temp.append(25)\n",
    "                #print(\"25\")\n",
    "            elif x > d_mean and x <d_max:\n",
    "                 temp.append(75)\n",
    "                #print(\"75\")\n",
    "            elif x == d_mean:\n",
    "                 temp.append(50)\n",
    "                #print(\"50\")\n",
    "            elif x == d_min:\n",
    "                 temp.append(0)\n",
    "                #print(\"0\")\n",
    "            elif x == d_max:\n",
    "                 temp.append(100)\n",
    "               # print(\"100\")\n",
    "               # \n",
    "\n",
    "f = np.reshape(temp,(2,3,5))\n",
    "print(f)"
   ]
  },
  {
   "cell_type": "code",
   "execution_count": 60,
   "id": "a7591baa",
   "metadata": {},
   "outputs": [
    {
     "name": "stdout",
     "output_type": "stream",
     "text": [
      "[[[0.87369199 1.20294852 0.4136902  1.47512324 1.00455049]\n",
      "  [1.20795253 1.56015785 0.68261701 1.19164001 0.51373987]\n",
      "  [0.81184714 0.95213252 0.59430717 1.32357546 0.222775  ]]\n",
      "\n",
      " [[1.58295608 0.59361166 1.38747493 0.47518451 0.36205042]\n",
      "  [0.80307903 1.67538695 1.03258611 0.62481143 1.53216577]\n",
      "  [0.38899653 0.92664032 0.78328308 0.81637624 0.69313656]]]\n"
     ]
    }
   ],
   "source": [
    "print(d)"
   ]
  },
  {
   "cell_type": "code",
   "execution_count": 61,
   "id": "a7c0df5c",
   "metadata": {},
   "outputs": [
    {
     "name": "stdout",
     "output_type": "stream",
     "text": [
      "[[['B' 'D' 'B' 'D' 'D']\n",
      "  ['D' 'D' 'B' 'D' 'B']\n",
      "  ['B' 'D' 'B' 'D' 'A']]\n",
      "\n",
      " [['D' 'B' 'D' 'B' 'B']\n",
      "  ['B' 'E' 'D' 'B' 'D']\n",
      "  ['B' 'D' 'B' 'B' 'B']]]\n"
     ]
    }
   ],
   "source": [
    "temp = []\n",
    "\n",
    "for i in d:\n",
    "    #print(i)\n",
    "    for j in i:\n",
    "        #print(j)\n",
    "        for x in j:\n",
    "            ##print(x)\n",
    "            if x > d_min and x < d_mean:\n",
    "                temp.append('B')\n",
    "                #print(\"25\")\n",
    "            elif x > d_mean and x <d_max:\n",
    "                 temp.append('D')\n",
    "                #print(\"75\")\n",
    "            elif x == d_mean:\n",
    "                 temp.append('C')\n",
    "                #print(\"50\")\n",
    "            elif x == d_min:\n",
    "                 temp.append('A')\n",
    "                #print(\"0\")\n",
    "            elif x == d_max:\n",
    "                 temp.append('E')\n",
    "               # print(\"100\")\n",
    "               # \n",
    "\n",
    "f = np.reshape(temp,(2,3,5))\n",
    "print(f)"
   ]
  },
  {
   "cell_type": "code",
   "execution_count": null,
   "id": "ff5e556c",
   "metadata": {},
   "outputs": [],
   "source": []
  }
 ],
 "metadata": {
  "kernelspec": {
   "display_name": "Python 3",
   "language": "python",
   "name": "python3"
  },
  "language_info": {
   "codemirror_mode": {
    "name": "ipython",
    "version": 3
   },
   "file_extension": ".py",
   "mimetype": "text/x-python",
   "name": "python",
   "nbconvert_exporter": "python",
   "pygments_lexer": "ipython3",
   "version": "3.9.5"
  }
 },
 "nbformat": 4,
 "nbformat_minor": 5
}
